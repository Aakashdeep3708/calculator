{
 "cells": [
  {
   "cell_type": "code",
   "execution_count": null,
   "id": "bbe40a6a",
   "metadata": {},
   "outputs": [],
   "source": [
    "def addition(a,b):\n",
    "    c=a+b\n",
    "    return c\n",
    "\n",
    "def subtraction(a,b):\n",
    "    c=a-b\n",
    "    return c\n",
    "\n",
    "def multiply(a,b):\n",
    "    c=a*b\n",
    "    return c\n",
    "\n",
    "def division(a,b):\n",
    "    c=a/b\n",
    "    return c\n",
    "\n",
    "def calculation():\n",
    "    repeat_calc=True\n",
    "\n",
    "    a=float(input(\"enter the first number:\"))\n",
    "\n",
    "    while repeat_calc:\n",
    "\n",
    "        operator=input(\"+\\n\"\"-\\n\"\"*\\n\"\"/\\n\"\"choose an operator\\n\")\n",
    "        b=float(input(\"enter the second number:\"))\n",
    "\n",
    "        if operator==\"+\":\n",
    "            value=addition(a,b)\n",
    "            print(f\"{a}{operator}{b}={value}\")\n",
    "        elif operator==\"-\":\n",
    "            value=subtraction(a,b)\n",
    "            print(f\"{a}{operator}{b}={value}\")\n",
    "        elif operator==\"*\":\n",
    "            value=multiply(a,b)\n",
    "            print(f\"{a}{operator}{b}={value}\")\n",
    "        elif operator==\"/\":\n",
    "            value=division(a,b)\n",
    "            print(f\"{a}{operator}{b}={value}\")\n",
    "\n",
    "        repeat=input(f'Type \"Yes\" to continue with the answer {value} or \"No\" to start a new calculation or \"exit\" to exit:')\n",
    "        if repeat==\"yes\":\n",
    "            a=value\n",
    "            repeat_calc=True\n",
    "        elif repeat==\"no\":\n",
    "            repeat_calc=False\n",
    "            calculation()\n",
    "        elif repeat==\"exit\":\n",
    "            repeat_calc=False\n",
    "            print(\"Thank You\")\n",
    "        else:\n",
    "            print(\"Please enter the correct input\")\n",
    "            \n",
    "calculation()"
   ]
  },
  {
   "cell_type": "code",
   "execution_count": null,
   "id": "aa0aa092",
   "metadata": {},
   "outputs": [],
   "source": []
  }
 ],
 "metadata": {
  "kernelspec": {
   "display_name": "Python 3 (ipykernel)",
   "language": "python",
   "name": "python3"
  },
  "language_info": {
   "codemirror_mode": {
    "name": "ipython",
    "version": 3
   },
   "file_extension": ".py",
   "mimetype": "text/x-python",
   "name": "python",
   "nbconvert_exporter": "python",
   "pygments_lexer": "ipython3",
   "version": "3.11.5"
  }
 },
 "nbformat": 4,
 "nbformat_minor": 5
}
